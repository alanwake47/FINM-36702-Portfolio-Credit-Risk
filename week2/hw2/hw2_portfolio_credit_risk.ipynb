{
 "cells": [
  {
   "cell_type": "code",
   "execution_count": 3,
   "metadata": {},
   "outputs": [],
   "source": [
    "import pandas as pd\n",
    "import numpy as np\n",
    "import math\n",
    "import matplotlib.pyplot as plt\n",
    "import scipy.stats as stats\n",
    "from scipy.optimize import fsolve\n",
    "from scipy.stats import multivariate_normal"
   ]
  },
  {
   "cell_type": "code",
   "execution_count": 2,
   "metadata": {},
   "outputs": [],
   "source": [
    "pd1 = 0.1\n",
    "pd2 = 0.2\n",
    "pd3 = 0.3\n",
    "pd4 = 0.4\n",
    "rho12 = 0.1\n",
    "rho13 = 0.2\n",
    "rho14 = 0.3\n",
    "rho23 = 0.4\n",
    "rho24 = 0.5\n",
    "rho34 = 0.6"
   ]
  },
  {
   "cell_type": "code",
   "execution_count": 18,
   "metadata": {},
   "outputs": [],
   "source": [
    "#Draw values of the correlated latent variables 𝒁i from a multivariate normal distribution with mean vector 𝜇 = (0, 0, 0, 0) and covariance matrix 𝜎2 = (1, 𝜌12, 𝜌13, 𝜌14; 𝜌12, 1, 𝜌23, 𝜌24; 𝜌13, 𝜌23, 1, 𝜌34; 𝜌14, 𝜌24, 𝜌34, 1) using multivariate_normal.rvs() function.\n",
    "\n",
    "z1 = multivariate_normal.rvs(mean=[0,0,0,0], cov=[[1,rho12,rho13,rho14],[rho12,1,rho23,rho24],[rho13,rho23,1,rho34],[rho14,rho24,rho34,1]], size=1000000)\n",
    "invphipd1 = stats.norm.ppf(pd1)\n",
    "invphipd2 = stats.norm.ppf(pd2)\n",
    "invphipd3 = stats.norm.ppf(pd3)\n",
    "invphipd4 = stats.norm.ppf(pd4)"
   ]
  },
  {
   "cell_type": "code",
   "execution_count": 17,
   "metadata": {},
   "outputs": [
    {
     "name": "stdout",
     "output_type": "stream",
     "text": [
      "-1.2815515655446004\n",
      "-0.8416212335729142\n",
      "-0.5244005127080409\n",
      "-0.2533471031357997\n"
     ]
    }
   ],
   "source": [
    "print(invphipd1)\n",
    "print(invphipd2)\n",
    "print(invphipd3)\n",
    "print(invphipd4)"
   ]
  }
 ],
 "metadata": {
  "kernelspec": {
   "display_name": "base",
   "language": "python",
   "name": "python3"
  },
  "language_info": {
   "codemirror_mode": {
    "name": "ipython",
    "version": 3
   },
   "file_extension": ".py",
   "mimetype": "text/x-python",
   "name": "python",
   "nbconvert_exporter": "python",
   "pygments_lexer": "ipython3",
   "version": "3.9.13"
  },
  "orig_nbformat": 4
 },
 "nbformat": 4,
 "nbformat_minor": 2
}
